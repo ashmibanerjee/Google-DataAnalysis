{
 "cells": [
  {
   "cell_type": "code",
   "execution_count": 1,
   "metadata": {
    "collapsed": true
   },
   "outputs": [],
   "source": [
    "import numpy as np\n",
    "import pandas as pd\n",
    "import matplotlib.pyplot as plt\n",
    "import seaborn as sns"
   ]
  },
  {
   "cell_type": "markdown",
   "metadata": {},
   "source": [
    "# Google-Location History Analysis"
   ]
  },
  {
   "cell_type": "code",
   "execution_count": 2,
   "metadata": {
    "collapsed": true
   },
   "outputs": [],
   "source": [
    "import json\n",
    "import os\n",
    "import time\n",
    "import datetime\n",
    "file_path = '/Users/ashmi/Desktop/Takeout/Fit/Daily Aggregations/Location_History.json'\n",
    "with open(file_path, encoding='utf-8') as data_file:\n",
    "    data = json.loads(data_file.read())\n",
    "\n",
    "location_data = pd.DataFrame(data['locations'])"
   ]
  },
  {
   "cell_type": "code",
   "execution_count": 3,
   "metadata": {
    "collapsed": true
   },
   "outputs": [],
   "source": [
    "from matplotlib.collections import PatchCollection\n",
    "from IPython.display import Image\n",
    "import fiona\n",
    "from shapely.prepared import prep\n",
    "from descartes import PolygonPatch\n",
    "from mpl_toolkits.basemap import Basemap\n",
    "from shapely.geometry import Point, Polygon, MultiPoint, MultiPolygon\n",
    "import warnings\n",
    "warnings.filterwarnings('ignore')\n",
    "# import cartopy.crs as ccrs"
   ]
  },
  {
   "cell_type": "code",
   "execution_count": 4,
   "metadata": {},
   "outputs": [
    {
     "data": {
      "text/html": [
       "<div>\n",
       "<style>\n",
       "    .dataframe thead tr:only-child th {\n",
       "        text-align: right;\n",
       "    }\n",
       "\n",
       "    .dataframe thead th {\n",
       "        text-align: left;\n",
       "    }\n",
       "\n",
       "    .dataframe tbody tr th {\n",
       "        vertical-align: top;\n",
       "    }\n",
       "</style>\n",
       "<table border=\"1\" class=\"dataframe\">\n",
       "  <thead>\n",
       "    <tr style=\"text-align: right;\">\n",
       "      <th></th>\n",
       "      <th>accuracy</th>\n",
       "      <th>activity</th>\n",
       "      <th>altitude</th>\n",
       "      <th>heading</th>\n",
       "      <th>latitudeE7</th>\n",
       "      <th>longitudeE7</th>\n",
       "      <th>timestampMs</th>\n",
       "      <th>velocity</th>\n",
       "      <th>verticalAccuracy</th>\n",
       "    </tr>\n",
       "  </thead>\n",
       "  <tbody>\n",
       "    <tr>\n",
       "      <th>0</th>\n",
       "      <td>16</td>\n",
       "      <td>[{'timestampMs': '1536010106375', 'activity': ...</td>\n",
       "      <td>NaN</td>\n",
       "      <td>NaN</td>\n",
       "      <td>226201999</td>\n",
       "      <td>884314579</td>\n",
       "      <td>1536010110470</td>\n",
       "      <td>NaN</td>\n",
       "      <td>NaN</td>\n",
       "    </tr>\n",
       "    <tr>\n",
       "      <th>1</th>\n",
       "      <td>16</td>\n",
       "      <td>[{'timestampMs': '1536010024596', 'activity': ...</td>\n",
       "      <td>NaN</td>\n",
       "      <td>NaN</td>\n",
       "      <td>226201999</td>\n",
       "      <td>884314579</td>\n",
       "      <td>1536010048469</td>\n",
       "      <td>NaN</td>\n",
       "      <td>NaN</td>\n",
       "    </tr>\n",
       "    <tr>\n",
       "      <th>2</th>\n",
       "      <td>16</td>\n",
       "      <td>[{'timestampMs': '1536009924038', 'activity': ...</td>\n",
       "      <td>NaN</td>\n",
       "      <td>NaN</td>\n",
       "      <td>226201999</td>\n",
       "      <td>884314579</td>\n",
       "      <td>1536009858682</td>\n",
       "      <td>NaN</td>\n",
       "      <td>NaN</td>\n",
       "    </tr>\n",
       "    <tr>\n",
       "      <th>3</th>\n",
       "      <td>16</td>\n",
       "      <td>[{'timestampMs': '1536009711432', 'activity': ...</td>\n",
       "      <td>NaN</td>\n",
       "      <td>NaN</td>\n",
       "      <td>226201999</td>\n",
       "      <td>884314579</td>\n",
       "      <td>1536009797687</td>\n",
       "      <td>NaN</td>\n",
       "      <td>NaN</td>\n",
       "    </tr>\n",
       "    <tr>\n",
       "      <th>4</th>\n",
       "      <td>16</td>\n",
       "      <td>NaN</td>\n",
       "      <td>NaN</td>\n",
       "      <td>NaN</td>\n",
       "      <td>226201999</td>\n",
       "      <td>884314579</td>\n",
       "      <td>1536009521292</td>\n",
       "      <td>NaN</td>\n",
       "      <td>NaN</td>\n",
       "    </tr>\n",
       "  </tbody>\n",
       "</table>\n",
       "</div>"
      ],
      "text/plain": [
       "   accuracy                                           activity  altitude  \\\n",
       "0        16  [{'timestampMs': '1536010106375', 'activity': ...       NaN   \n",
       "1        16  [{'timestampMs': '1536010024596', 'activity': ...       NaN   \n",
       "2        16  [{'timestampMs': '1536009924038', 'activity': ...       NaN   \n",
       "3        16  [{'timestampMs': '1536009711432', 'activity': ...       NaN   \n",
       "4        16                                                NaN       NaN   \n",
       "\n",
       "   heading  latitudeE7  longitudeE7    timestampMs  velocity  verticalAccuracy  \n",
       "0      NaN   226201999    884314579  1536010110470       NaN               NaN  \n",
       "1      NaN   226201999    884314579  1536010048469       NaN               NaN  \n",
       "2      NaN   226201999    884314579  1536009858682       NaN               NaN  \n",
       "3      NaN   226201999    884314579  1536009797687       NaN               NaN  \n",
       "4      NaN   226201999    884314579  1536009521292       NaN               NaN  "
      ]
     },
     "execution_count": 4,
     "metadata": {},
     "output_type": "execute_result"
    }
   ],
   "source": [
    "location_data.head()"
   ]
  },
  {
   "cell_type": "code",
   "execution_count": 5,
   "metadata": {
    "collapsed": true
   },
   "outputs": [],
   "source": [
    "del(data) ## Freeing up space"
   ]
  },
  {
   "cell_type": "code",
   "execution_count": 6,
   "metadata": {
    "collapsed": true
   },
   "outputs": [],
   "source": [
    "# convert to typical units\n",
    "location_data['latitudeE7'] = location_data['latitudeE7']/float(1e7) \n",
    "location_data['longitudeE7'] = location_data['longitudeE7']/float(1e7)\n",
    "location_data['timestampMs'] = location_data['timestampMs'].map(lambda x: float(x)/1000) #to seconds\n",
    "location_data['datetime'] = location_data.timestampMs.map(datetime.datetime.fromtimestamp)\n",
    "\n",
    "# Rename fields based on the conversions we just did\n",
    "location_data.rename(columns={'latitudeE7':'latitude', 'longitudeE7':'longitude', 'timestampMs':'timestamp'}, inplace=True)\n",
    "location_data = location_data[location_data.accuracy < 1000] #Ignore locations with accuracy estimates over 1000m\n",
    "location_data.reset_index(drop=True, inplace=True)"
   ]
  },
  {
   "cell_type": "code",
   "execution_count": 7,
   "metadata": {},
   "outputs": [
    {
     "data": {
      "text/html": [
       "<div>\n",
       "<style>\n",
       "    .dataframe thead tr:only-child th {\n",
       "        text-align: right;\n",
       "    }\n",
       "\n",
       "    .dataframe thead th {\n",
       "        text-align: left;\n",
       "    }\n",
       "\n",
       "    .dataframe tbody tr th {\n",
       "        vertical-align: top;\n",
       "    }\n",
       "</style>\n",
       "<table border=\"1\" class=\"dataframe\">\n",
       "  <thead>\n",
       "    <tr style=\"text-align: right;\">\n",
       "      <th></th>\n",
       "      <th>accuracy</th>\n",
       "      <th>activity</th>\n",
       "      <th>altitude</th>\n",
       "      <th>heading</th>\n",
       "      <th>latitude</th>\n",
       "      <th>longitude</th>\n",
       "      <th>timestamp</th>\n",
       "      <th>velocity</th>\n",
       "      <th>verticalAccuracy</th>\n",
       "      <th>datetime</th>\n",
       "    </tr>\n",
       "  </thead>\n",
       "  <tbody>\n",
       "    <tr>\n",
       "      <th>0</th>\n",
       "      <td>16</td>\n",
       "      <td>[{'timestampMs': '1536010106375', 'activity': ...</td>\n",
       "      <td>NaN</td>\n",
       "      <td>NaN</td>\n",
       "      <td>22.6202</td>\n",
       "      <td>88.431458</td>\n",
       "      <td>1.536010e+09</td>\n",
       "      <td>NaN</td>\n",
       "      <td>NaN</td>\n",
       "      <td>2018-09-04 02:58:30.470</td>\n",
       "    </tr>\n",
       "    <tr>\n",
       "      <th>1</th>\n",
       "      <td>16</td>\n",
       "      <td>[{'timestampMs': '1536010024596', 'activity': ...</td>\n",
       "      <td>NaN</td>\n",
       "      <td>NaN</td>\n",
       "      <td>22.6202</td>\n",
       "      <td>88.431458</td>\n",
       "      <td>1.536010e+09</td>\n",
       "      <td>NaN</td>\n",
       "      <td>NaN</td>\n",
       "      <td>2018-09-04 02:57:28.469</td>\n",
       "    </tr>\n",
       "    <tr>\n",
       "      <th>2</th>\n",
       "      <td>16</td>\n",
       "      <td>[{'timestampMs': '1536009924038', 'activity': ...</td>\n",
       "      <td>NaN</td>\n",
       "      <td>NaN</td>\n",
       "      <td>22.6202</td>\n",
       "      <td>88.431458</td>\n",
       "      <td>1.536010e+09</td>\n",
       "      <td>NaN</td>\n",
       "      <td>NaN</td>\n",
       "      <td>2018-09-04 02:54:18.682</td>\n",
       "    </tr>\n",
       "    <tr>\n",
       "      <th>3</th>\n",
       "      <td>16</td>\n",
       "      <td>[{'timestampMs': '1536009711432', 'activity': ...</td>\n",
       "      <td>NaN</td>\n",
       "      <td>NaN</td>\n",
       "      <td>22.6202</td>\n",
       "      <td>88.431458</td>\n",
       "      <td>1.536010e+09</td>\n",
       "      <td>NaN</td>\n",
       "      <td>NaN</td>\n",
       "      <td>2018-09-04 02:53:17.687</td>\n",
       "    </tr>\n",
       "    <tr>\n",
       "      <th>4</th>\n",
       "      <td>16</td>\n",
       "      <td>NaN</td>\n",
       "      <td>NaN</td>\n",
       "      <td>NaN</td>\n",
       "      <td>22.6202</td>\n",
       "      <td>88.431458</td>\n",
       "      <td>1.536010e+09</td>\n",
       "      <td>NaN</td>\n",
       "      <td>NaN</td>\n",
       "      <td>2018-09-04 02:48:41.292</td>\n",
       "    </tr>\n",
       "  </tbody>\n",
       "</table>\n",
       "</div>"
      ],
      "text/plain": [
       "   accuracy                                           activity  altitude  \\\n",
       "0        16  [{'timestampMs': '1536010106375', 'activity': ...       NaN   \n",
       "1        16  [{'timestampMs': '1536010024596', 'activity': ...       NaN   \n",
       "2        16  [{'timestampMs': '1536009924038', 'activity': ...       NaN   \n",
       "3        16  [{'timestampMs': '1536009711432', 'activity': ...       NaN   \n",
       "4        16                                                NaN       NaN   \n",
       "\n",
       "   heading  latitude  longitude     timestamp  velocity  verticalAccuracy  \\\n",
       "0      NaN   22.6202  88.431458  1.536010e+09       NaN               NaN   \n",
       "1      NaN   22.6202  88.431458  1.536010e+09       NaN               NaN   \n",
       "2      NaN   22.6202  88.431458  1.536010e+09       NaN               NaN   \n",
       "3      NaN   22.6202  88.431458  1.536010e+09       NaN               NaN   \n",
       "4      NaN   22.6202  88.431458  1.536010e+09       NaN               NaN   \n",
       "\n",
       "                 datetime  \n",
       "0 2018-09-04 02:58:30.470  \n",
       "1 2018-09-04 02:57:28.469  \n",
       "2 2018-09-04 02:54:18.682  \n",
       "3 2018-09-04 02:53:17.687  \n",
       "4 2018-09-04 02:48:41.292  "
      ]
     },
     "execution_count": 7,
     "metadata": {},
     "output_type": "execute_result"
    }
   ],
   "source": [
    "location_data.head()"
   ]
  },
  {
   "cell_type": "code",
   "execution_count": 8,
   "metadata": {},
   "outputs": [
    {
     "data": {
      "text/plain": [
       "accuracy                     int64\n",
       "activity                    object\n",
       "altitude                   float64\n",
       "heading                    float64\n",
       "latitude                   float64\n",
       "longitude                  float64\n",
       "timestamp                  float64\n",
       "velocity                   float64\n",
       "verticalAccuracy           float64\n",
       "datetime            datetime64[ns]\n",
       "dtype: object"
      ]
     },
     "execution_count": 8,
     "metadata": {},
     "output_type": "execute_result"
    }
   ],
   "source": [
    "location_data.dtypes"
   ]
  },
  {
   "cell_type": "code",
   "execution_count": 9,
   "metadata": {},
   "outputs": [
    {
     "name": "stdout",
     "output_type": "stream",
     "text": [
      "earliest observed date: 06-11-2013\n",
      "latest observed date: 09-04-2018\n"
     ]
    }
   ],
   "source": [
    "print(\"earliest observed date: {}\".format(min(location_data[\"datetime\"]).strftime('%m-%d-%Y')))\n",
    "print(\"latest observed date: {}\".format(max(location_data[\"datetime\"]).strftime('%m-%d-%Y')))\n",
    "\n",
    "earliest_obs = min(location_data[\"datetime\"]).strftime('%m-%d-%Y')\n",
    "latest_obs = max(location_data[\"datetime\"]).strftime('%m-%d-%Y')"
   ]
  },
  {
   "cell_type": "code",
   "execution_count": 10,
   "metadata": {},
   "outputs": [
    {
     "data": {
      "text/html": [
       "<div>\n",
       "<style>\n",
       "    .dataframe thead tr:only-child th {\n",
       "        text-align: right;\n",
       "    }\n",
       "\n",
       "    .dataframe thead th {\n",
       "        text-align: left;\n",
       "    }\n",
       "\n",
       "    .dataframe tbody tr th {\n",
       "        vertical-align: top;\n",
       "    }\n",
       "</style>\n",
       "<table border=\"1\" class=\"dataframe\">\n",
       "  <thead>\n",
       "    <tr style=\"text-align: right;\">\n",
       "      <th></th>\n",
       "      <th>accuracy</th>\n",
       "      <th>activity</th>\n",
       "      <th>altitude</th>\n",
       "      <th>heading</th>\n",
       "      <th>latitude</th>\n",
       "      <th>longitude</th>\n",
       "      <th>timestamp</th>\n",
       "      <th>velocity</th>\n",
       "      <th>verticalAccuracy</th>\n",
       "      <th>datetime</th>\n",
       "    </tr>\n",
       "  </thead>\n",
       "  <tbody>\n",
       "    <tr>\n",
       "      <th>0</th>\n",
       "      <td>16</td>\n",
       "      <td>[{'timestampMs': '1536010106375', 'activity': ...</td>\n",
       "      <td>NaN</td>\n",
       "      <td>NaN</td>\n",
       "      <td>22.6202</td>\n",
       "      <td>88.431458</td>\n",
       "      <td>1.536010e+09</td>\n",
       "      <td>NaN</td>\n",
       "      <td>NaN</td>\n",
       "      <td>2018-09-04 02:58:30.470</td>\n",
       "    </tr>\n",
       "    <tr>\n",
       "      <th>1</th>\n",
       "      <td>16</td>\n",
       "      <td>[{'timestampMs': '1536010024596', 'activity': ...</td>\n",
       "      <td>NaN</td>\n",
       "      <td>NaN</td>\n",
       "      <td>22.6202</td>\n",
       "      <td>88.431458</td>\n",
       "      <td>1.536010e+09</td>\n",
       "      <td>NaN</td>\n",
       "      <td>NaN</td>\n",
       "      <td>2018-09-04 02:57:28.469</td>\n",
       "    </tr>\n",
       "    <tr>\n",
       "      <th>2</th>\n",
       "      <td>16</td>\n",
       "      <td>[{'timestampMs': '1536009924038', 'activity': ...</td>\n",
       "      <td>NaN</td>\n",
       "      <td>NaN</td>\n",
       "      <td>22.6202</td>\n",
       "      <td>88.431458</td>\n",
       "      <td>1.536010e+09</td>\n",
       "      <td>NaN</td>\n",
       "      <td>NaN</td>\n",
       "      <td>2018-09-04 02:54:18.682</td>\n",
       "    </tr>\n",
       "    <tr>\n",
       "      <th>3</th>\n",
       "      <td>16</td>\n",
       "      <td>[{'timestampMs': '1536009711432', 'activity': ...</td>\n",
       "      <td>NaN</td>\n",
       "      <td>NaN</td>\n",
       "      <td>22.6202</td>\n",
       "      <td>88.431458</td>\n",
       "      <td>1.536010e+09</td>\n",
       "      <td>NaN</td>\n",
       "      <td>NaN</td>\n",
       "      <td>2018-09-04 02:53:17.687</td>\n",
       "    </tr>\n",
       "    <tr>\n",
       "      <th>4</th>\n",
       "      <td>16</td>\n",
       "      <td>NaN</td>\n",
       "      <td>NaN</td>\n",
       "      <td>NaN</td>\n",
       "      <td>22.6202</td>\n",
       "      <td>88.431458</td>\n",
       "      <td>1.536010e+09</td>\n",
       "      <td>NaN</td>\n",
       "      <td>NaN</td>\n",
       "      <td>2018-09-04 02:48:41.292</td>\n",
       "    </tr>\n",
       "  </tbody>\n",
       "</table>\n",
       "</div>"
      ],
      "text/plain": [
       "   accuracy                                           activity  altitude  \\\n",
       "0        16  [{'timestampMs': '1536010106375', 'activity': ...       NaN   \n",
       "1        16  [{'timestampMs': '1536010024596', 'activity': ...       NaN   \n",
       "2        16  [{'timestampMs': '1536009924038', 'activity': ...       NaN   \n",
       "3        16  [{'timestampMs': '1536009711432', 'activity': ...       NaN   \n",
       "4        16                                                NaN       NaN   \n",
       "\n",
       "   heading  latitude  longitude     timestamp  velocity  verticalAccuracy  \\\n",
       "0      NaN   22.6202  88.431458  1.536010e+09       NaN               NaN   \n",
       "1      NaN   22.6202  88.431458  1.536010e+09       NaN               NaN   \n",
       "2      NaN   22.6202  88.431458  1.536010e+09       NaN               NaN   \n",
       "3      NaN   22.6202  88.431458  1.536010e+09       NaN               NaN   \n",
       "4      NaN   22.6202  88.431458  1.536010e+09       NaN               NaN   \n",
       "\n",
       "                 datetime  \n",
       "0 2018-09-04 02:58:30.470  \n",
       "1 2018-09-04 02:57:28.469  \n",
       "2 2018-09-04 02:54:18.682  \n",
       "3 2018-09-04 02:53:17.687  \n",
       "4 2018-09-04 02:48:41.292  "
      ]
     },
     "execution_count": 10,
     "metadata": {},
     "output_type": "execute_result"
    }
   ],
   "source": [
    "location_data.head()"
   ]
  },
  {
   "cell_type": "code",
   "execution_count": 11,
   "metadata": {
    "collapsed": true
   },
   "outputs": [],
   "source": [
    "locations_ll = location_data[['latitude', 'longitude']]\n",
    "locationlist = locations_ll.values.tolist()"
   ]
  },
  {
   "cell_type": "code",
   "execution_count": 12,
   "metadata": {
    "collapsed": true
   },
   "outputs": [],
   "source": [
    "import folium"
   ]
  },
  {
   "cell_type": "code",
   "execution_count": 13,
   "metadata": {},
   "outputs": [
    {
     "ename": "AttributeError",
     "evalue": "'Timestamp' object has no attribute 'get_name'",
     "output_type": "error",
     "traceback": [
      "\u001b[0;31m---------------------------------------------------------------------------\u001b[0m",
      "\u001b[0;31mAttributeError\u001b[0m                            Traceback (most recent call last)",
      "\u001b[0;32m<ipython-input-13-4dae660efaa1>\u001b[0m in \u001b[0;36m<module>\u001b[0;34m()\u001b[0m\n\u001b[1;32m      1\u001b[0m \u001b[0mmap\u001b[0m \u001b[0;34m=\u001b[0m \u001b[0mfolium\u001b[0m\u001b[0;34m.\u001b[0m\u001b[0mMap\u001b[0m\u001b[0;34m(\u001b[0m\u001b[0mlocation\u001b[0m\u001b[0;34m=\u001b[0m\u001b[0;34m[\u001b[0m\u001b[0;36m49.2\u001b[0m\u001b[0;34m,\u001b[0m \u001b[0;36m7.00\u001b[0m\u001b[0;34m]\u001b[0m\u001b[0;34m,\u001b[0m \u001b[0mzoom_start\u001b[0m\u001b[0;34m=\u001b[0m\u001b[0;36m12\u001b[0m\u001b[0;34m)\u001b[0m\u001b[0;34m\u001b[0m\u001b[0m\n\u001b[1;32m      2\u001b[0m \u001b[0;32mfor\u001b[0m \u001b[0mpoint\u001b[0m \u001b[0;32min\u001b[0m \u001b[0mrange\u001b[0m\u001b[0;34m(\u001b[0m\u001b[0;36m0\u001b[0m\u001b[0;34m,\u001b[0m \u001b[0mlen\u001b[0m\u001b[0;34m(\u001b[0m\u001b[0mlocationlist\u001b[0m\u001b[0;34m)\u001b[0m\u001b[0;34m)\u001b[0m\u001b[0;34m:\u001b[0m\u001b[0;34m\u001b[0m\u001b[0m\n\u001b[0;32m----> 3\u001b[0;31m     \u001b[0mfolium\u001b[0m\u001b[0;34m.\u001b[0m\u001b[0mMarker\u001b[0m\u001b[0;34m(\u001b[0m\u001b[0mlocationlist\u001b[0m\u001b[0;34m[\u001b[0m\u001b[0mpoint\u001b[0m\u001b[0;34m]\u001b[0m\u001b[0;34m,\u001b[0m \u001b[0mpopup\u001b[0m\u001b[0;34m=\u001b[0m\u001b[0mlocation_data\u001b[0m\u001b[0;34m[\u001b[0m\u001b[0;34m'datetime'\u001b[0m\u001b[0;34m]\u001b[0m\u001b[0;34m[\u001b[0m\u001b[0mpoint\u001b[0m\u001b[0;34m]\u001b[0m\u001b[0;34m)\u001b[0m\u001b[0;34m.\u001b[0m\u001b[0madd_to\u001b[0m\u001b[0;34m(\u001b[0m\u001b[0mmap\u001b[0m\u001b[0;34m)\u001b[0m\u001b[0;34m\u001b[0m\u001b[0m\n\u001b[0m\u001b[1;32m      4\u001b[0m \u001b[0mmap\u001b[0m\u001b[0;34m\u001b[0m\u001b[0m\n",
      "\u001b[0;32m~/anaconda3/lib/python3.6/site-packages/folium/map.py\u001b[0m in \u001b[0;36m__init__\u001b[0;34m(self, location, popup, tooltip, icon)\u001b[0m\n\u001b[1;32m    254\u001b[0m             \u001b[0mself\u001b[0m\u001b[0;34m.\u001b[0m\u001b[0madd_child\u001b[0m\u001b[0;34m(\u001b[0m\u001b[0mPopup\u001b[0m\u001b[0;34m(\u001b[0m\u001b[0mpopup\u001b[0m\u001b[0;34m)\u001b[0m\u001b[0;34m)\u001b[0m\u001b[0;34m\u001b[0m\u001b[0m\n\u001b[1;32m    255\u001b[0m         \u001b[0;32melif\u001b[0m \u001b[0mpopup\u001b[0m \u001b[0;32mis\u001b[0m \u001b[0;32mnot\u001b[0m \u001b[0;32mNone\u001b[0m\u001b[0;34m:\u001b[0m\u001b[0;34m\u001b[0m\u001b[0m\n\u001b[0;32m--> 256\u001b[0;31m             \u001b[0mself\u001b[0m\u001b[0;34m.\u001b[0m\u001b[0madd_child\u001b[0m\u001b[0;34m(\u001b[0m\u001b[0mpopup\u001b[0m\u001b[0;34m)\u001b[0m\u001b[0;34m\u001b[0m\u001b[0m\n\u001b[0m\u001b[1;32m    257\u001b[0m         \u001b[0;32mif\u001b[0m \u001b[0misinstance\u001b[0m\u001b[0;34m(\u001b[0m\u001b[0mtooltip\u001b[0m\u001b[0;34m,\u001b[0m \u001b[0mTooltip\u001b[0m\u001b[0;34m)\u001b[0m\u001b[0;34m:\u001b[0m\u001b[0;34m\u001b[0m\u001b[0m\n\u001b[1;32m    258\u001b[0m             \u001b[0mself\u001b[0m\u001b[0;34m.\u001b[0m\u001b[0madd_child\u001b[0m\u001b[0;34m(\u001b[0m\u001b[0mtooltip\u001b[0m\u001b[0;34m)\u001b[0m\u001b[0;34m\u001b[0m\u001b[0m\n",
      "\u001b[0;32m~/anaconda3/lib/python3.6/site-packages/branca/element.py\u001b[0m in \u001b[0;36madd_child\u001b[0;34m(self, child, name, index)\u001b[0m\n\u001b[1;32m     98\u001b[0m         \u001b[0;34m\"\"\"Add a child.\"\"\"\u001b[0m\u001b[0;34m\u001b[0m\u001b[0m\n\u001b[1;32m     99\u001b[0m         \u001b[0;32mif\u001b[0m \u001b[0mname\u001b[0m \u001b[0;32mis\u001b[0m \u001b[0;32mNone\u001b[0m\u001b[0;34m:\u001b[0m\u001b[0;34m\u001b[0m\u001b[0m\n\u001b[0;32m--> 100\u001b[0;31m             \u001b[0mname\u001b[0m \u001b[0;34m=\u001b[0m \u001b[0mchild\u001b[0m\u001b[0;34m.\u001b[0m\u001b[0mget_name\u001b[0m\u001b[0;34m(\u001b[0m\u001b[0;34m)\u001b[0m\u001b[0;34m\u001b[0m\u001b[0m\n\u001b[0m\u001b[1;32m    101\u001b[0m         \u001b[0;32mif\u001b[0m \u001b[0mindex\u001b[0m \u001b[0;32mis\u001b[0m \u001b[0;32mNone\u001b[0m\u001b[0;34m:\u001b[0m\u001b[0;34m\u001b[0m\u001b[0m\n\u001b[1;32m    102\u001b[0m             \u001b[0mself\u001b[0m\u001b[0;34m.\u001b[0m\u001b[0m_children\u001b[0m\u001b[0;34m[\u001b[0m\u001b[0mname\u001b[0m\u001b[0;34m]\u001b[0m \u001b[0;34m=\u001b[0m \u001b[0mchild\u001b[0m\u001b[0;34m\u001b[0m\u001b[0m\n",
      "\u001b[0;31mAttributeError\u001b[0m: 'Timestamp' object has no attribute 'get_name'"
     ]
    }
   ],
   "source": [
    "map = folium.Map(location=[49.2, 7.00], zoom_start=12)\n",
    "for point in range(0, len(locationlist)):\n",
    "    folium.Marker(locationlist[point], popup=location_data['datetime'][point]).add_to(map)\n",
    "map"
   ]
  },
  {
   "cell_type": "code",
   "execution_count": null,
   "metadata": {
    "collapsed": true
   },
   "outputs": [],
   "source": [
    "degrees_to_radians = np.pi/180.0 \n",
    "location_data['phi'] = (90.0 - location_data.latitude) * degrees_to_radians \n",
    "location_data['theta'] = location_data.longitude * degrees_to_radians\n",
    "# Compute distance between two GPS points on a unit sphere\n",
    "location_data['distance'] = np.arccos(\n",
    "    np.sin(location_data.phi)*np.sin(location_data.phi.shift(-1)) * np.cos(location_data.theta - location_data.theta.shift(-1)) + \n",
    "    np.cos(location_data.phi)*np.cos(location_data.phi.shift(-1))) * 6378.100 # radius of earth in km"
   ]
  },
  {
   "cell_type": "code",
   "execution_count": null,
   "metadata": {
    "collapsed": true
   },
   "outputs": [],
   "source": [
    "location_data['speed'] = location_data.distance/(location_data.timestamp - location_data.timestamp.shift(-1))*3600 #km/hr"
   ]
  },
  {
   "cell_type": "code",
   "execution_count": null,
   "metadata": {
    "collapsed": true
   },
   "outputs": [],
   "source": [
    "flight_data = pd.DataFrame(data={'end_lat':location_data.latitude,\n",
    "                             'end_lon':location_data.longitude,\n",
    "                             'end_datetime':location_data.datetime,\n",
    "                             'distance':location_data.distance,\n",
    "                             'speed':location_data.speed,\n",
    "                             'start_lat':location_data.shift(-1).latitude,\n",
    "                             'start_lon':location_data.shift(-1).longitude,\n",
    "                             'start_datetime':location_data.shift(-1).datetime,\n",
    "                             }).reset_index(drop=True)"
   ]
  },
  {
   "cell_type": "code",
   "execution_count": null,
   "metadata": {},
   "outputs": [],
   "source": [
    "flight_data.head()"
   ]
  },
  {
   "cell_type": "code",
   "execution_count": null,
   "metadata": {
    "collapsed": true
   },
   "outputs": [],
   "source": []
  },
  {
   "cell_type": "code",
   "execution_count": null,
   "metadata": {
    "collapsed": true
   },
   "outputs": [],
   "source": [
    "def distance_on_unit_sphere(lat1, long1, lat2, long2):\n",
    "    # http://www.johndcook.com/python_longitude_latitude.html\n",
    "    # Convert latitude and longitude to spherical coordinates in radians.\n",
    "    degrees_to_radians = np.pi/180.0  \n",
    "    # phi = 90 - latitude\n",
    "    phi1 = (90.0 - lat1)*degrees_to_radians\n",
    "    phi2 = (90.0 - lat2)*degrees_to_radians\n",
    "    # theta = longitude\n",
    "    theta1 = long1*degrees_to_radians\n",
    "    theta2 = long2*degrees_to_radians\n",
    "\n",
    "    cos = (np.sin(phi1)*np.sin(phi2)*np.cos(theta1 - theta2) + \n",
    "           np.cos(phi1)*np.cos(phi2))\n",
    "    arc = np.arccos( cos )\n",
    "    # Remember to multiply arc by the radius of the earth \n",
    "    # in your favorite set of units to get length.\n",
    "    return arc"
   ]
  },
  {
   "cell_type": "code",
   "execution_count": null,
   "metadata": {
    "collapsed": true
   },
   "outputs": [],
   "source": [
    "flights = flight_data[(flight_data.speed > 40) & (flight_data.distance > 80)].reset_index()\n",
    "\n",
    "# Combine instances of flight that are directly adjacent \n",
    "# Find the indices of flights that are directly adjacent\n",
    "_f = flights[flights['index'].diff() == 1]\n",
    "adjacent_flight_groups = np.split(_f, (_f['index'].diff() > 1).nonzero()[0])\n",
    "\n",
    "# Now iterate through the groups of adjacent flights and merge their data into\n",
    "# one flight entry\n",
    "for flight_group in adjacent_flight_groups:\n",
    "    idx = flight_group.index[0] - 1 #the index of flight termination\n",
    "    flights.loc[idx, ['start_lat', 'start_lon', 'start_datetime']] = [flight_group.iloc[-1].start_lat, \n",
    "                                                         flight_group.iloc[-1].start_lon, \n",
    "                                                         flight_group.iloc[-1].start_datetime]\n",
    "    # Recompute total distance of flight\n",
    "    flights.loc[idx, 'distance'] = distance_on_unit_sphere(flights.loc[idx].start_lat,\n",
    "                                                           flights.loc[idx].start_lon,\n",
    "                                                           flights.loc[idx].end_lat,\n",
    "                                                           flights.loc[idx].end_lon)*6378.1   \n",
    "\n",
    "# Now remove the \"flight\" entries we don't need anymore.\n",
    "flights = flights.drop(_f.index).reset_index(drop=True)\n",
    "\n",
    "# Finally, we can be confident that we've removed instances of flights broken up by\n",
    "# GPS data points during flight. We can now be more liberal in our constraints for what\n",
    "# constitutes flight. Let's remove any instances below 200km as a final measure.\n",
    "flights = flights[flights.distance > 200].reset_index(drop=True)"
   ]
  },
  {
   "cell_type": "code",
   "execution_count": null,
   "metadata": {
    "collapsed": true
   },
   "outputs": [],
   "source": [
    "fig = plt.figure(figsize=(18,12))\n",
    "\n",
    "# Plotting across the international dateline is tough. One option is to break up flights\n",
    "# by hemisphere. Otherwise, you'd need to plot using a different projection like 'robin'\n",
    "# and potentially center on the Int'l Dateline (lon_0=-180)\n",
    "# flights = flights[(flights.start_lon < 0) & (flights.end_lon < 0)]# Western Hemisphere Flights\n",
    "# flights = flights[(flights.start_lon > 0) & (flights.end_lon > 0)] # Eastern Hemisphere Flights\n",
    "\n",
    "xbuf = 0.2\n",
    "ybuf = 0.35\n",
    "min_lat = np.min([flights.end_lat.min(), flights.start_lat.min()])\n",
    "min_lon = np.min([flights.end_lon.min(), flights.start_lon.min()])\n",
    "max_lat = np.max([flights.end_lat.max(), flights.start_lat.max()])\n",
    "max_lon = np.max([flights.end_lon.max(), flights.start_lon.max()])\n",
    "width = max_lon - min_lon\n",
    "height = max_lat - min_lat\n",
    "\n"
   ]
  },
  {
   "cell_type": "code",
   "execution_count": null,
   "metadata": {
    "collapsed": true
   },
   "outputs": [],
   "source": [
    "import rasterio\n",
    "from gcmap import GCMapper, Gradient"
   ]
  },
  {
   "cell_type": "code",
   "execution_count": null,
   "metadata": {
    "collapsed": true
   },
   "outputs": [],
   "source": [
    "# m = Basemap(llcrnrlon=min_lon - width* xbuf,\n",
    "#             llcrnrlat=min_lat - height*ybuf,\n",
    "#             urcrnrlon=max_lon + width* xbuf,\n",
    "#             urcrnrlat=max_lat + height*ybuf,\n",
    "#             projection='merc',\n",
    "#             resolution='l',\n",
    "#             lat_0=min_lat + height/2,\n",
    "#             lon_0=min_lon + width/2,)\n",
    "\n",
    "\n"
   ]
  },
  {
   "cell_type": "code",
   "execution_count": null,
   "metadata": {
    "collapsed": true
   },
   "outputs": [],
   "source": [
    "# m.drawmapboundary(fill_color='#EBF4FA')\n",
    "# m.drawcoastlines()\n",
    "# m.drawstates()\n",
    "# m.drawcountries()\n",
    "# m.fillcontinents()\n",
    "\n",
    "# current_date = time.strftime(\"printed: %a, %d %b %Y\", time.localtime())\n",
    "\n",
    "# for idx, f in flights.iterrows():\n",
    "#     m.drawgreatcircle(f.start_lon, f.start_lat, f.end_lon, f.end_lat, linewidth=3, alpha=0.4, color='b' )\n",
    "#     m.plot(*m(f.start_lon, f.start_lat), color='g', alpha=0.8, marker='o')\n",
    "#     m.plot(*m(f.end_lon, f.end_lat), color='r', alpha=0.5, marker='o' )\n",
    "\n",
    "# fig.text(0.125, 0.18, \"Data collected from 2013-2017 on Android \\nPlotted using Python, Basemap \\n%s\" % (current_date),\n",
    "#         ha='left', color='#555555', style='italic')\n",
    "# fig.text(0.125, 0.15, \"kivanpolimis.com\", color='#555555', fontsize=16, ha='left')\n",
    "# plt.savefig('flights.png', dpi=150, frameon=False, transparent=False, bbox_inches='tight', pad_inches=0.2)\n"
   ]
  },
  {
   "cell_type": "code",
   "execution_count": null,
   "metadata": {},
   "outputs": [],
   "source": [
    "flights.head()"
   ]
  },
  {
   "cell_type": "code",
   "execution_count": null,
   "metadata": {
    "collapsed": true
   },
   "outputs": [],
   "source": [
    "routes = flights\n",
    "# create gradient to color the routes according to the number of flights\n",
    "grad = Gradient(((0, 0, 0, 0), (0.5, 204, 0, 153), (1, 255, 204, 230)))\n",
    "# initialize GCMapper and set data\n",
    "gcm = GCMapper(cols=grad, height=2000, width=4000)\n",
    "gcm.set_data(routes['start_lon'], routes['start_lat'], routes['end_lon'],\n",
    "             routes['end_lat'])#, routes['nb_flights'])\n",
    "# run & save\n",
    "img = gcm.draw()\n",
    "img.save('flights_map_gcmap.png')"
   ]
  },
  {
   "cell_type": "code",
   "execution_count": null,
   "metadata": {
    "collapsed": true
   },
   "outputs": [],
   "source": []
  }
 ],
 "metadata": {
  "kernelspec": {
   "display_name": "Python 3",
   "language": "python",
   "name": "python3"
  },
  "language_info": {
   "codemirror_mode": {
    "name": "ipython",
    "version": 3
   },
   "file_extension": ".py",
   "mimetype": "text/x-python",
   "name": "python",
   "nbconvert_exporter": "python",
   "pygments_lexer": "ipython3",
   "version": "3.6.3"
  }
 },
 "nbformat": 4,
 "nbformat_minor": 2
}
